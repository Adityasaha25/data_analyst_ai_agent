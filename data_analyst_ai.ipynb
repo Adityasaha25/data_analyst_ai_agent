{
 "cells": [
  {
   "cell_type": "markdown",
   "id": "b2f106a1-3210-4e5c-9b8d-96ffe0a8a3eb",
   "metadata": {},
   "source": [
    "# AI Data Analyst Agent (Jupyter + Gradio)\n",
    "\n",
    "This notebook:\n",
    "- Lets the user upload a CSV\n",
    "- Accepts natural language queries\n",
    "- Returns text answers; if a matplotlib figure is produced it returns the figure image\n"
   ]
  },
  {
   "cell_type": "code",
   "execution_count": 1,
   "id": "3eb5ac9e-01b0-40fd-b3c5-add408840a1e",
   "metadata": {},
   "outputs": [
    {
     "name": "stdout",
     "output_type": "stream",
     "text": [
      "Requirement already satisfied: google-generativeai in c:\\users\\sahaa\\appdata\\local\\programs\\python\\python313\\lib\\site-packages (0.8.5)\n",
      "Requirement already satisfied: pandas in c:\\users\\sahaa\\appdata\\local\\programs\\python\\python313\\lib\\site-packages (2.3.2)\n",
      "Requirement already satisfied: matplotlib in c:\\users\\sahaa\\appdata\\local\\programs\\python\\python313\\lib\\site-packages (3.10.6)\n",
      "Requirement already satisfied: pillow in c:\\users\\sahaa\\appdata\\local\\programs\\python\\python313\\lib\\site-packages (11.3.0)\n",
      "Requirement already satisfied: gradio in c:\\users\\sahaa\\appdata\\local\\programs\\python\\python313\\lib\\site-packages (5.49.0)\n",
      "Requirement already satisfied: google-ai-generativelanguage==0.6.15 in c:\\users\\sahaa\\appdata\\local\\programs\\python\\python313\\lib\\site-packages (from google-generativeai) (0.6.15)\n",
      "Requirement already satisfied: google-api-core in c:\\users\\sahaa\\appdata\\local\\programs\\python\\python313\\lib\\site-packages (from google-generativeai) (2.25.2)\n",
      "Requirement already satisfied: google-api-python-client in c:\\users\\sahaa\\appdata\\local\\programs\\python\\python313\\lib\\site-packages (from google-generativeai) (2.184.0)\n",
      "Requirement already satisfied: google-auth>=2.15.0 in c:\\users\\sahaa\\appdata\\local\\programs\\python\\python313\\lib\\site-packages (from google-generativeai) (2.41.1)\n",
      "Requirement already satisfied: protobuf in c:\\users\\sahaa\\appdata\\local\\programs\\python\\python313\\lib\\site-packages (from google-generativeai) (5.29.5)\n",
      "Requirement already satisfied: pydantic in c:\\users\\sahaa\\appdata\\local\\programs\\python\\python313\\lib\\site-packages (from google-generativeai) (2.11.9)\n",
      "Requirement already satisfied: tqdm in c:\\users\\sahaa\\appdata\\local\\programs\\python\\python313\\lib\\site-packages (from google-generativeai) (4.67.1)\n",
      "Requirement already satisfied: typing-extensions in c:\\users\\sahaa\\appdata\\local\\programs\\python\\python313\\lib\\site-packages (from google-generativeai) (4.13.2)\n",
      "Requirement already satisfied: proto-plus<2.0.0dev,>=1.22.3 in c:\\users\\sahaa\\appdata\\local\\programs\\python\\python313\\lib\\site-packages (from google-ai-generativelanguage==0.6.15->google-generativeai) (1.26.1)\n",
      "Requirement already satisfied: numpy>=1.26.0 in c:\\users\\sahaa\\appdata\\local\\programs\\python\\python313\\lib\\site-packages (from pandas) (2.3.2)\n",
      "Requirement already satisfied: python-dateutil>=2.8.2 in c:\\users\\sahaa\\appdata\\local\\programs\\python\\python313\\lib\\site-packages (from pandas) (2.9.0.post0)\n",
      "Requirement already satisfied: pytz>=2020.1 in c:\\users\\sahaa\\appdata\\local\\programs\\python\\python313\\lib\\site-packages (from pandas) (2025.2)\n",
      "Requirement already satisfied: tzdata>=2022.7 in c:\\users\\sahaa\\appdata\\local\\programs\\python\\python313\\lib\\site-packages (from pandas) (2025.2)\n",
      "Requirement already satisfied: contourpy>=1.0.1 in c:\\users\\sahaa\\appdata\\local\\programs\\python\\python313\\lib\\site-packages (from matplotlib) (1.3.3)\n",
      "Requirement already satisfied: cycler>=0.10 in c:\\users\\sahaa\\appdata\\local\\programs\\python\\python313\\lib\\site-packages (from matplotlib) (0.12.1)\n",
      "Requirement already satisfied: fonttools>=4.22.0 in c:\\users\\sahaa\\appdata\\local\\programs\\python\\python313\\lib\\site-packages (from matplotlib) (4.59.2)\n",
      "Requirement already satisfied: kiwisolver>=1.3.1 in c:\\users\\sahaa\\appdata\\local\\programs\\python\\python313\\lib\\site-packages (from matplotlib) (1.4.9)\n",
      "Requirement already satisfied: packaging>=20.0 in c:\\users\\sahaa\\appdata\\local\\programs\\python\\python313\\lib\\site-packages (from matplotlib) (25.0)\n",
      "Requirement already satisfied: pyparsing>=2.3.1 in c:\\users\\sahaa\\appdata\\local\\programs\\python\\python313\\lib\\site-packages (from matplotlib) (3.2.3)\n",
      "Requirement already satisfied: aiofiles<25.0,>=22.0 in c:\\users\\sahaa\\appdata\\local\\programs\\python\\python313\\lib\\site-packages (from gradio) (24.1.0)\n",
      "Requirement already satisfied: anyio<5.0,>=3.0 in c:\\users\\sahaa\\appdata\\local\\programs\\python\\python313\\lib\\site-packages (from gradio) (4.9.0)\n",
      "Requirement already satisfied: audioop-lts<1.0 in c:\\users\\sahaa\\appdata\\local\\programs\\python\\python313\\lib\\site-packages (from gradio) (0.2.2)\n",
      "Requirement already satisfied: brotli>=1.1.0 in c:\\users\\sahaa\\appdata\\local\\programs\\python\\python313\\lib\\site-packages (from gradio) (1.1.0)\n",
      "Requirement already satisfied: fastapi<1.0,>=0.115.2 in c:\\users\\sahaa\\appdata\\local\\programs\\python\\python313\\lib\\site-packages (from gradio) (0.118.0)\n",
      "Requirement already satisfied: ffmpy in c:\\users\\sahaa\\appdata\\local\\programs\\python\\python313\\lib\\site-packages (from gradio) (0.6.1)\n",
      "Requirement already satisfied: gradio-client==1.13.3 in c:\\users\\sahaa\\appdata\\local\\programs\\python\\python313\\lib\\site-packages (from gradio) (1.13.3)\n",
      "Requirement already satisfied: groovy~=0.1 in c:\\users\\sahaa\\appdata\\local\\programs\\python\\python313\\lib\\site-packages (from gradio) (0.1.2)\n",
      "Requirement already satisfied: httpx<1.0,>=0.24.1 in c:\\users\\sahaa\\appdata\\local\\programs\\python\\python313\\lib\\site-packages (from gradio) (0.28.1)\n",
      "Requirement already satisfied: huggingface-hub<2.0,>=0.33.5 in c:\\users\\sahaa\\appdata\\local\\programs\\python\\python313\\lib\\site-packages (from gradio) (0.35.3)\n",
      "Requirement already satisfied: jinja2<4.0 in c:\\users\\sahaa\\appdata\\local\\programs\\python\\python313\\lib\\site-packages (from gradio) (3.1.6)\n",
      "Requirement already satisfied: markupsafe<4.0,>=2.0 in c:\\users\\sahaa\\appdata\\local\\programs\\python\\python313\\lib\\site-packages (from gradio) (3.0.2)\n",
      "Requirement already satisfied: orjson~=3.0 in c:\\users\\sahaa\\appdata\\local\\programs\\python\\python313\\lib\\site-packages (from gradio) (3.11.3)\n",
      "Requirement already satisfied: pydub in c:\\users\\sahaa\\appdata\\local\\programs\\python\\python313\\lib\\site-packages (from gradio) (0.25.1)\n",
      "Requirement already satisfied: python-multipart>=0.0.18 in c:\\users\\sahaa\\appdata\\local\\programs\\python\\python313\\lib\\site-packages (from gradio) (0.0.20)\n",
      "Requirement already satisfied: pyyaml<7.0,>=5.0 in c:\\users\\sahaa\\appdata\\local\\programs\\python\\python313\\lib\\site-packages (from gradio) (6.0.2)\n",
      "Requirement already satisfied: ruff>=0.9.3 in c:\\users\\sahaa\\appdata\\local\\programs\\python\\python313\\lib\\site-packages (from gradio) (0.13.3)\n",
      "Requirement already satisfied: safehttpx<0.2.0,>=0.1.6 in c:\\users\\sahaa\\appdata\\local\\programs\\python\\python313\\lib\\site-packages (from gradio) (0.1.6)\n",
      "Requirement already satisfied: semantic-version~=2.0 in c:\\users\\sahaa\\appdata\\local\\programs\\python\\python313\\lib\\site-packages (from gradio) (2.10.0)\n",
      "Requirement already satisfied: starlette<1.0,>=0.40.0 in c:\\users\\sahaa\\appdata\\local\\programs\\python\\python313\\lib\\site-packages (from gradio) (0.48.0)\n",
      "Requirement already satisfied: tomlkit<0.14.0,>=0.12.0 in c:\\users\\sahaa\\appdata\\local\\programs\\python\\python313\\lib\\site-packages (from gradio) (0.13.3)\n",
      "Requirement already satisfied: typer<1.0,>=0.12 in c:\\users\\sahaa\\appdata\\local\\programs\\python\\python313\\lib\\site-packages (from gradio) (0.19.2)\n",
      "Requirement already satisfied: uvicorn>=0.14.0 in c:\\users\\sahaa\\appdata\\local\\programs\\python\\python313\\lib\\site-packages (from gradio) (0.37.0)\n",
      "Requirement already satisfied: fsspec in c:\\users\\sahaa\\appdata\\local\\programs\\python\\python313\\lib\\site-packages (from gradio-client==1.13.3->gradio) (2025.9.0)\n",
      "Requirement already satisfied: websockets<16.0,>=13.0 in c:\\users\\sahaa\\appdata\\local\\programs\\python\\python313\\lib\\site-packages (from gradio-client==1.13.3->gradio) (15.0.1)\n",
      "Requirement already satisfied: idna>=2.8 in c:\\users\\sahaa\\appdata\\local\\programs\\python\\python313\\lib\\site-packages (from anyio<5.0,>=3.0->gradio) (3.10)\n",
      "Requirement already satisfied: sniffio>=1.1 in c:\\users\\sahaa\\appdata\\local\\programs\\python\\python313\\lib\\site-packages (from anyio<5.0,>=3.0->gradio) (1.3.1)\n",
      "Requirement already satisfied: googleapis-common-protos<2.0.0,>=1.56.2 in c:\\users\\sahaa\\appdata\\local\\programs\\python\\python313\\lib\\site-packages (from google-api-core->google-generativeai) (1.70.0)\n",
      "Requirement already satisfied: requests<3.0.0,>=2.18.0 in c:\\users\\sahaa\\appdata\\local\\programs\\python\\python313\\lib\\site-packages (from google-api-core->google-generativeai) (2.32.3)\n",
      "Requirement already satisfied: cachetools<7.0,>=2.0.0 in c:\\users\\sahaa\\appdata\\local\\programs\\python\\python313\\lib\\site-packages (from google-auth>=2.15.0->google-generativeai) (6.2.0)\n",
      "Requirement already satisfied: pyasn1-modules>=0.2.1 in c:\\users\\sahaa\\appdata\\local\\programs\\python\\python313\\lib\\site-packages (from google-auth>=2.15.0->google-generativeai) (0.4.2)\n",
      "Requirement already satisfied: rsa<5,>=3.1.4 in c:\\users\\sahaa\\appdata\\local\\programs\\python\\python313\\lib\\site-packages (from google-auth>=2.15.0->google-generativeai) (4.9.1)\n",
      "Requirement already satisfied: certifi in c:\\users\\sahaa\\appdata\\local\\programs\\python\\python313\\lib\\site-packages (from httpx<1.0,>=0.24.1->gradio) (2025.4.26)\n",
      "Requirement already satisfied: httpcore==1.* in c:\\users\\sahaa\\appdata\\local\\programs\\python\\python313\\lib\\site-packages (from httpx<1.0,>=0.24.1->gradio) (1.0.9)\n",
      "Requirement already satisfied: h11>=0.16 in c:\\users\\sahaa\\appdata\\local\\programs\\python\\python313\\lib\\site-packages (from httpcore==1.*->httpx<1.0,>=0.24.1->gradio) (0.16.0)\n",
      "Requirement already satisfied: filelock in c:\\users\\sahaa\\appdata\\local\\programs\\python\\python313\\lib\\site-packages (from huggingface-hub<2.0,>=0.33.5->gradio) (3.19.1)\n",
      "Requirement already satisfied: annotated-types>=0.6.0 in c:\\users\\sahaa\\appdata\\local\\programs\\python\\python313\\lib\\site-packages (from pydantic->google-generativeai) (0.7.0)\n",
      "Requirement already satisfied: pydantic-core==2.33.2 in c:\\users\\sahaa\\appdata\\local\\programs\\python\\python313\\lib\\site-packages (from pydantic->google-generativeai) (2.33.2)\n",
      "Requirement already satisfied: typing-inspection>=0.4.0 in c:\\users\\sahaa\\appdata\\local\\programs\\python\\python313\\lib\\site-packages (from pydantic->google-generativeai) (0.4.2)\n",
      "Requirement already satisfied: six>=1.5 in c:\\users\\sahaa\\appdata\\local\\programs\\python\\python313\\lib\\site-packages (from python-dateutil>=2.8.2->pandas) (1.17.0)\n",
      "Requirement already satisfied: colorama in c:\\users\\sahaa\\appdata\\local\\programs\\python\\python313\\lib\\site-packages (from tqdm->google-generativeai) (0.4.6)\n",
      "Requirement already satisfied: click>=8.0.0 in c:\\users\\sahaa\\appdata\\local\\programs\\python\\python313\\lib\\site-packages (from typer<1.0,>=0.12->gradio) (8.3.0)\n",
      "Requirement already satisfied: shellingham>=1.3.0 in c:\\users\\sahaa\\appdata\\local\\programs\\python\\python313\\lib\\site-packages (from typer<1.0,>=0.12->gradio) (1.5.4)\n",
      "Requirement already satisfied: rich>=10.11.0 in c:\\users\\sahaa\\appdata\\local\\programs\\python\\python313\\lib\\site-packages (from typer<1.0,>=0.12->gradio) (14.1.0)\n",
      "Requirement already satisfied: httplib2<1.0.0,>=0.19.0 in c:\\users\\sahaa\\appdata\\local\\programs\\python\\python313\\lib\\site-packages (from google-api-python-client->google-generativeai) (0.31.0)\n",
      "Requirement already satisfied: google-auth-httplib2<1.0.0,>=0.2.0 in c:\\users\\sahaa\\appdata\\local\\programs\\python\\python313\\lib\\site-packages (from google-api-python-client->google-generativeai) (0.2.0)\n",
      "Requirement already satisfied: uritemplate<5,>=3.0.1 in c:\\users\\sahaa\\appdata\\local\\programs\\python\\python313\\lib\\site-packages (from google-api-python-client->google-generativeai) (4.2.0)\n",
      "Requirement already satisfied: grpcio<2.0.0,>=1.33.2 in c:\\users\\sahaa\\appdata\\local\\programs\\python\\python313\\lib\\site-packages (from google-api-core[grpc]!=2.0.*,!=2.1.*,!=2.10.*,!=2.2.*,!=2.3.*,!=2.4.*,!=2.5.*,!=2.6.*,!=2.7.*,!=2.8.*,!=2.9.*,<3.0.0dev,>=1.34.1->google-ai-generativelanguage==0.6.15->google-generativeai) (1.75.1)\n",
      "Requirement already satisfied: grpcio-status<2.0.0,>=1.33.2 in c:\\users\\sahaa\\appdata\\local\\programs\\python\\python313\\lib\\site-packages (from google-api-core[grpc]!=2.0.*,!=2.1.*,!=2.10.*,!=2.2.*,!=2.3.*,!=2.4.*,!=2.5.*,!=2.6.*,!=2.7.*,!=2.8.*,!=2.9.*,<3.0.0dev,>=1.34.1->google-ai-generativelanguage==0.6.15->google-generativeai) (1.71.2)\n",
      "Requirement already satisfied: pyasn1<0.7.0,>=0.6.1 in c:\\users\\sahaa\\appdata\\local\\programs\\python\\python313\\lib\\site-packages (from pyasn1-modules>=0.2.1->google-auth>=2.15.0->google-generativeai) (0.6.1)\n",
      "Requirement already satisfied: charset-normalizer<4,>=2 in c:\\users\\sahaa\\appdata\\local\\programs\\python\\python313\\lib\\site-packages (from requests<3.0.0,>=2.18.0->google-api-core->google-generativeai) (3.4.2)\n",
      "Requirement already satisfied: urllib3<3,>=1.21.1 in c:\\users\\sahaa\\appdata\\local\\programs\\python\\python313\\lib\\site-packages (from requests<3.0.0,>=2.18.0->google-api-core->google-generativeai) (2.4.0)\n",
      "Requirement already satisfied: markdown-it-py>=2.2.0 in c:\\users\\sahaa\\appdata\\local\\programs\\python\\python313\\lib\\site-packages (from rich>=10.11.0->typer<1.0,>=0.12->gradio) (4.0.0)\n",
      "Requirement already satisfied: pygments<3.0.0,>=2.13.0 in c:\\users\\sahaa\\appdata\\local\\programs\\python\\python313\\lib\\site-packages (from rich>=10.11.0->typer<1.0,>=0.12->gradio) (2.19.1)\n",
      "Requirement already satisfied: mdurl~=0.1 in c:\\users\\sahaa\\appdata\\local\\programs\\python\\python313\\lib\\site-packages (from markdown-it-py>=2.2.0->rich>=10.11.0->typer<1.0,>=0.12->gradio) (0.1.2)\n"
     ]
    },
    {
     "name": "stderr",
     "output_type": "stream",
     "text": [
      "\n",
      "[notice] A new release of pip is available: 24.3.1 -> 25.2\n",
      "[notice] To update, run: python.exe -m pip install --upgrade pip\n"
     ]
    }
   ],
   "source": [
    "!pip install google-generativeai pandas matplotlib pillow gradio"
   ]
  },
  {
   "cell_type": "code",
   "execution_count": 2,
   "id": "4842bffb-b993-491b-97fa-3cb3f389621c",
   "metadata": {},
   "outputs": [
    {
     "name": "stdout",
     "output_type": "stream",
     "text": [
      " All libraries imported successfully!\n"
     ]
    }
   ],
   "source": [
    "# Cell 2: Import Libraries\n",
    "import os\n",
    "import io\n",
    "import pandas as pd\n",
    "import matplotlib.pyplot as plt\n",
    "from PIL import Image\n",
    "import gradio as gr\n",
    "\n",
    "try:\n",
    "    import google.generativeai as genai\n",
    "    print(\" All libraries imported successfully!\")\n",
    "except ImportError as e:\n",
    "    print(f\"❌ Error importing libraries: {e}\")\n",
    "    print(\"Please run: pip install google-generativeai\")"
   ]
  },
  {
   "cell_type": "code",
   "execution_count": 3,
   "id": "ac0d98c6-6bf0-41a0-876b-c14f6a007c93",
   "metadata": {},
   "outputs": [
    {
     "name": "stdout",
     "output_type": "stream",
     "text": [
      " Gemini API configured successfully!\n",
      "API Key: ...\n"
     ]
    }
   ],
   "source": [
    "# Cell 3: Configure Gemini API\n",
    "GEMINI_API_KEY = \"\"\n",
    "\n",
    "os.environ[\"GEMINI_API_KEY\"] = GEMINI_API_KEY\n",
    "genai.configure(api_key=GEMINI_API_KEY)\n",
    "\n",
    "print(\" Gemini API configured successfully!\")\n",
    "print(f\"API Key: {GEMINI_API_KEY[:10]}...\") "
   ]
  },
  {
   "cell_type": "code",
   "execution_count": 4,
   "id": "e85f09d4-2ca5-43a1-8d00-2d5d993f70d4",
   "metadata": {},
   "outputs": [
    {
     "name": "stdout",
     "output_type": "stream",
     "text": [
      "\n",
      "==================================================\n",
      "AVAILABLE GEMINI MODELS:\n",
      "==================================================\n",
      " Error listing models: \n",
      "  No API_KEY or ADC found. Please either:\n",
      "    - Set the `GOOGLE_API_KEY` environment variable.\n",
      "    - Manually pass the key with `genai.configure(api_key=my_api_key)`.\n",
      "    - Or set up Application Default Credentials, see https://ai.google.dev/gemini-api/docs/oauth for more information.\n",
      "This usually means your API key is invalid or not configured properly\n"
     ]
    }
   ],
   "source": [
    "# Cell 3.5: List Available Models (Run this to check available models)\n",
    "print(\"\\n\" + \"=\"*50)\n",
    "print(\"AVAILABLE GEMINI MODELS:\")\n",
    "print(\"=\"*50)\n",
    "try:\n",
    "    available_models = []\n",
    "    for model in genai.list_models():\n",
    "        if 'generateContent' in model.supported_generation_methods:\n",
    "            available_models.append(model.name)\n",
    "            print(f\"✓ {model.name}\")\n",
    "    \n",
    "    if not available_models:\n",
    "        print(\" No models available. Check your API key!\")\n",
    "    else:\n",
    "        print(f\"\\n✓ Found {len(available_models)} models\")\n",
    "except Exception as e:\n",
    "    print(f\" Error listing models: {e}\")\n",
    "    print(\"This usually means your API key is invalid or not configured properly\")"
   ]
  },
  {
   "cell_type": "code",
   "execution_count": 5,
   "id": "227cd208-f020-466d-b7d9-5e66c059b11a",
   "metadata": {},
   "outputs": [
    {
     "name": "stdout",
     "output_type": "stream",
     "text": [
      "Helper function 'fig_to_pil' defined!\n"
     ]
    }
   ],
   "source": [
    "# Cell 4: Define Helper Function - Convert Figure to Image\n",
    "def fig_to_pil(fig):\n",
    "    \"\"\"Convert matplotlib figure to PIL Image\"\"\"\n",
    "    buf = io.BytesIO()\n",
    "    fig.savefig(buf, format=\"png\", bbox_inches=\"tight\", dpi=100)\n",
    "    buf.seek(0)\n",
    "    img = Image.open(buf)\n",
    "    return img\n",
    "\n",
    "print(\"Helper function 'fig_to_pil' defined!\")"
   ]
  },
  {
   "cell_type": "code",
   "execution_count": 6,
   "id": "42b1e224-2164-4d38-92ee-69ca0ad07f34",
   "metadata": {},
   "outputs": [
    {
     "name": "stdout",
     "output_type": "stream",
     "text": [
      " Main analysis function 'analyze_with_gemini' defined!\n"
     ]
    }
   ],
   "source": [
    "# Cell 5: Define Main Analysis Function\n",
    "def analyze_with_gemini(uploaded_file, query: str):\n",
    "    \"\"\"Analyze CSV data using Gemini AI\"\"\"\n",
    "    if uploaded_file is None:\n",
    "        return \"Please upload a CSV file first.\", None\n",
    "    \n",
    "    if not query or query.strip() == \"\":\n",
    "        return \"Please enter a question.\", None\n",
    "    \n",
    "    try:\n",
    "        # Read the CSV file\n",
    "        if isinstance(uploaded_file, bytes):\n",
    "            df = pd.read_csv(io.BytesIO(uploaded_file))\n",
    "        else:\n",
    "            df = pd.read_csv(uploaded_file)\n",
    "        \n",
    "        print(f\"✓ CSV loaded: {df.shape[0]} rows, {df.shape[1]} columns\")\n",
    "        \n",
    "        # Get dataframe info\n",
    "        df_preview = df.head(20).to_string()\n",
    "        df_info = f\"Columns: {list(df.columns)}\\nShape: {df.shape}\\nData types:\\n{df.dtypes.to_string()}\"\n",
    "        \n",
    "        # Create prompt for Gemini\n",
    "        prompt = f\"\"\"You are a data analyst. Here is information about a CSV dataframe:\n",
    "\n",
    "{df_info}\n",
    "\n",
    "Preview of first 20 rows:\n",
    "{df_preview}\n",
    "\n",
    "Question: {query}\n",
    "\n",
    "Please provide a clear, concise answer based on the data. If the question requires visualization, mention what type of plot would be appropriate.\"\"\"\n",
    "        \n",
    "        # Get the first available model dynamically\n",
    "        model = None\n",
    "        try:\n",
    "            available_models = [m.name for m in genai.list_models() \n",
    "                              if 'generateContent' in m.supported_generation_methods]\n",
    "            \n",
    "            if not available_models:\n",
    "                return \"No models available. Please check your API key at https://makersuite.google.com/app/apikey\", None\n",
    "            \n",
    "            # Use the first available model\n",
    "            model_name = available_models[0]\n",
    "            model = genai.GenerativeModel(model_name)\n",
    "            print(f\"✓ Using model: {model_name}\")\n",
    "            \n",
    "        except Exception as e:\n",
    "            return f\"Error initializing model: {str(e)}\\n\\nPlease run Cell 3.5 to check available models.\", None\n",
    "        \n",
    "        if model is None:\n",
    "            error_msg = \"Could not initialize any Gemini model.\\n\\n\"\n",
    "            error_msg += \"Please check:\\n\"\n",
    "            error_msg += \"1. Your API key is valid and active\\n\"\n",
    "            error_msg += \"2. You have access to Gemini models\\n\"\n",
    "            error_msg += \"3. Run Cell 3.5 to see available models\\n\\n\"\n",
    "            error_msg += \"Get a free API key at: https://makersuite.google.com/app/apikey\"\n",
    "            return error_msg, None\n",
    "        \n",
    "        # Generate response\n",
    "        print(\"🤖 Generating AI response...\")\n",
    "        response = model.generate_content(prompt)\n",
    "        text_result = response.text\n",
    "        print(\"✓ AI response generated!\")\n",
    "        \n",
    "        # Check if plotting is mentioned or needed\n",
    "        plot_keywords = ['plot', 'chart', 'graph', 'visualize', 'visualization', 'show']\n",
    "        should_plot = any(keyword in query.lower() or keyword in text_result.lower() \n",
    "                         for keyword in plot_keywords)\n",
    "        \n",
    "        img_pil = None\n",
    "        if should_plot:\n",
    "            numeric_cols = df.select_dtypes(include=['number']).columns.tolist()\n",
    "            \n",
    "            if len(numeric_cols) >= 1:\n",
    "                print(\"📊 Generating plot...\")\n",
    "                fig, ax = plt.subplots(figsize=(10, 6))\n",
    "                \n",
    "                # Simple automatic plotting logic\n",
    "                if len(numeric_cols) == 1:\n",
    "                    df[numeric_cols[0]].plot(kind=\"line\", ax=ax, \n",
    "                                            title=f\"{numeric_cols[0]} Over Index\")\n",
    "                elif len(numeric_cols) >= 2:\n",
    "                    df.plot(x=numeric_cols[0], y=numeric_cols[1], \n",
    "                           kind=\"scatter\", ax=ax,\n",
    "                           title=f\"{numeric_cols[1]} vs {numeric_cols[0]}\")\n",
    "                \n",
    "                ax.grid(True, alpha=0.3)\n",
    "                plt.tight_layout()\n",
    "                img_pil = fig_to_pil(fig)\n",
    "                plt.close(fig)\n",
    "                print(\"✓ Plot generated!\")\n",
    "        \n",
    "        return text_result, img_pil\n",
    "    \n",
    "    except pd.errors.EmptyDataError:\n",
    "        return \"Error: The uploaded file is empty.\", None\n",
    "    except pd.errors.ParserError:\n",
    "        return \"Error: Could not parse the CSV file. Please check the file format.\", None\n",
    "    except Exception as e:\n",
    "        import traceback\n",
    "        error_details = traceback.format_exc()\n",
    "        return f\"Error: {str(e)}\\n\\nFull error details:\\n{error_details}\", None\n",
    "\n",
    "print(\" Main analysis function 'analyze_with_gemini' defined!\")"
   ]
  },
  {
   "cell_type": "code",
   "execution_count": 7,
   "id": "7c9a675a-dae2-4fb2-99ff-3fe682b91678",
   "metadata": {},
   "outputs": [
    {
     "name": "stdout",
     "output_type": "stream",
     "text": [
      " Gradio interface created successfully!\n"
     ]
    }
   ],
   "source": [
    "# Cell 6: Create Gradio Interface\n",
    "with gr.Blocks(theme=gr.themes.Soft()) as demo:\n",
    "    gr.Markdown(\"# 📊 AI Data Analyst Agent\")\n",
    "    gr.Markdown(\"Upload a CSV file, ask a question in plain English, and get AI-powered analysis with automatic visualizations.\")\n",
    "    \n",
    "    with gr.Row():\n",
    "        with gr.Column():\n",
    "            file_input = gr.File(label=\"Upload CSV File\", file_count=\"single\", file_types=[\".csv\"])\n",
    "            query_input = gr.Textbox(\n",
    "                label=\"Ask Your Question\", \n",
    "                placeholder=\"e.g., What are the top 5 products by sales? Show a trend of revenue over time.\",\n",
    "                lines=3\n",
    "            )\n",
    "            analyze_btn = gr.Button(\"🔍 Analyze\", variant=\"primary\")\n",
    "    \n",
    "    with gr.Row():\n",
    "        output_text = gr.Textbox(label=\"AI Analysis\", lines=10, interactive=False)\n",
    "    \n",
    "    with gr.Row():\n",
    "        output_image = gr.Image(label=\"Generated Visualization\", type=\"pil\")\n",
    "    \n",
    "    # Example queries\n",
    "    gr.Markdown(\"### Example Questions:\")\n",
    "    gr.Markdown(\"\"\"\n",
    "    - What are the top 5 rows by a specific column?\n",
    "    - Show me a summary of the data\n",
    "    - What's the average value of column X?\n",
    "    - Plot the relationship between column A and column B\n",
    "    - Are there any missing values in the dataset?\n",
    "    \"\"\")\n",
    "    \n",
    "    analyze_btn.click(\n",
    "        fn=analyze_with_gemini, \n",
    "        inputs=[file_input, query_input], \n",
    "        outputs=[output_text, output_image]\n",
    "    )\n",
    "\n",
    "print(\" Gradio interface created successfully!\")"
   ]
  },
  {
   "cell_type": "code",
   "execution_count": null,
   "id": "6cf16a22-2b37-4933-9300-a5f60d75b28e",
   "metadata": {},
   "outputs": [
    {
     "name": "stdout",
     "output_type": "stream",
     "text": [
      "* Running on local URL:  http://127.0.0.1:7860\n",
      "* To create a public link, set `share=True` in `launch()`.\n"
     ]
    },
    {
     "data": {
      "text/html": [
       "<div><iframe src=\"http://127.0.0.1:7860/\" width=\"100%\" height=\"500\" allow=\"autoplay; camera; microphone; clipboard-read; clipboard-write;\" frameborder=\"0\" allowfullscreen></iframe></div>"
      ],
      "text/plain": [
       "<IPython.core.display.HTML object>"
      ]
     },
     "metadata": {},
     "output_type": "display_data"
    }
   ],
   "source": [
    "# Cell 7: Launch the Application\n",
    "demo.launch(share=False, debug=True)"
   ]
  },
  {
   "cell_type": "code",
   "execution_count": null,
   "id": "df27d663-b826-4a4b-8d79-56381d2c7984",
   "metadata": {},
   "outputs": [],
   "source": []
  }
 ],
 "metadata": {
  "kernelspec": {
   "display_name": "Python 3 (ipykernel)",
   "language": "python",
   "name": "python3"
  },
  "language_info": {
   "codemirror_mode": {
    "name": "ipython",
    "version": 3
   },
   "file_extension": ".py",
   "mimetype": "text/x-python",
   "name": "python",
   "nbconvert_exporter": "python",
   "pygments_lexer": "ipython3",
   "version": "3.13.1"
  }
 },
 "nbformat": 4,
 "nbformat_minor": 5
}
